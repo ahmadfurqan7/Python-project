{
  "nbformat": 4,
  "nbformat_minor": 0,
  "metadata": {
    "colab": {
      "provenance": []
    },
    "kernelspec": {
      "name": "python3",
      "display_name": "Python 3"
    },
    "language_info": {
      "name": "python"
    }
  },
  "cells": [
    {
      "cell_type": "code",
      "execution_count": 1,
      "metadata": {
        "colab": {
          "base_uri": "https://localhost:8080/"
        },
        "id": "BI64ZAdv4_ou",
        "outputId": "9b79f443-9410-4083-a97b-46591fd5320e"
      },
      "outputs": [
        {
          "output_type": "stream",
          "name": "stdout",
          "text": [
            "Enter the year : 2024\n",
            "                                  2024\n",
            "\n",
            "      January                   February                   March\n",
            "Mo Tu We Th Fr Sa Su      Mo Tu We Th Fr Sa Su      Mo Tu We Th Fr Sa Su\n",
            " 1  2  3  4  5  6  7                1  2  3  4                   1  2  3\n",
            " 8  9 10 11 12 13 14       5  6  7  8  9 10 11       4  5  6  7  8  9 10\n",
            "15 16 17 18 19 20 21      12 13 14 15 16 17 18      11 12 13 14 15 16 17\n",
            "22 23 24 25 26 27 28      19 20 21 22 23 24 25      18 19 20 21 22 23 24\n",
            "29 30 31                  26 27 28 29               25 26 27 28 29 30 31\n",
            "\n",
            "       April                      May                       June\n",
            "Mo Tu We Th Fr Sa Su      Mo Tu We Th Fr Sa Su      Mo Tu We Th Fr Sa Su\n",
            " 1  2  3  4  5  6  7             1  2  3  4  5                      1  2\n",
            " 8  9 10 11 12 13 14       6  7  8  9 10 11 12       3  4  5  6  7  8  9\n",
            "15 16 17 18 19 20 21      13 14 15 16 17 18 19      10 11 12 13 14 15 16\n",
            "22 23 24 25 26 27 28      20 21 22 23 24 25 26      17 18 19 20 21 22 23\n",
            "29 30                     27 28 29 30 31            24 25 26 27 28 29 30\n",
            "\n",
            "        July                     August                  September\n",
            "Mo Tu We Th Fr Sa Su      Mo Tu We Th Fr Sa Su      Mo Tu We Th Fr Sa Su\n",
            " 1  2  3  4  5  6  7                1  2  3  4                         1\n",
            " 8  9 10 11 12 13 14       5  6  7  8  9 10 11       2  3  4  5  6  7  8\n",
            "15 16 17 18 19 20 21      12 13 14 15 16 17 18       9 10 11 12 13 14 15\n",
            "22 23 24 25 26 27 28      19 20 21 22 23 24 25      16 17 18 19 20 21 22\n",
            "29 30 31                  26 27 28 29 30 31         23 24 25 26 27 28 29\n",
            "                                                    30\n",
            "\n",
            "      October                   November                  December\n",
            "Mo Tu We Th Fr Sa Su      Mo Tu We Th Fr Sa Su      Mo Tu We Th Fr Sa Su\n",
            "    1  2  3  4  5  6                   1  2  3                         1\n",
            " 7  8  9 10 11 12 13       4  5  6  7  8  9 10       2  3  4  5  6  7  8\n",
            "14 15 16 17 18 19 20      11 12 13 14 15 16 17       9 10 11 12 13 14 15\n",
            "21 22 23 24 25 26 27      18 19 20 21 22 23 24      16 17 18 19 20 21 22\n",
            "28 29 30 31               25 26 27 28 29 30         23 24 25 26 27 28 29\n",
            "                                                    30 31\n",
            "\n"
          ]
        }
      ],
      "source": [
        "from calendar import *\n",
        "year = int(input(\"Enter the year : \"))\n",
        "print(calendar(year))"
      ]
    },
    {
      "cell_type": "code",
      "source": [],
      "metadata": {
        "id": "PPnsX6Pa5DwQ"
      },
      "execution_count": null,
      "outputs": []
    }
  ]
}